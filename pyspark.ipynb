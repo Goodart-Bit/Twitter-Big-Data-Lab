{
 "cells": [
  {
   "cell_type": "code",
   "execution_count": 6,
   "metadata": {},
   "outputs": [],
   "source": [
    "from pyspark.sql import SparkSession\n",
    "import pyspark.sql.functions as f"
   ]
  },
  {
   "cell_type": "code",
   "execution_count": null,
   "metadata": {},
   "outputs": [],
   "source": [
    "spark = SparkSession.builder.appName('Laboratorio COVID-19 Twitter').getOrCreate()\n",
    "spark"
   ]
  },
  {
   "cell_type": "code",
   "execution_count": 90,
   "metadata": {},
   "outputs": [],
   "source": [
    "esp_regular_exclutions = ['', 'https://t', 'contra', 'este', 'sobre', 'durante', 'más', 'está', 'ha', 'el', 'la', 'los', 'las', 'un', 'no', 'una', 'unos', 'unas', 'al', 'del', 'lo', 'le', 'y', 'e', 'o', 'u', 'de', 'a', 'en', 'que', 'es',\n",
    "                          'por', 'para', 'con', 'se', 'su', 'les', 'me', 'q', 'te', 'pero', 'mi', 'ya', 'cuando', 'como', 'estoy', 'voy', 'porque', 'he', 'son', 'solo', 'tengo', 'muy', 'si', 'fue', 'síntomas', 'todos', 'mascarilla', 'personas', 'salud', '#covid19',\n",
    "                          'virus', 'pacientes', 'casos', 'síntomas,', 'tienen', 'después', 'nueva','tienes', 'enfermedad', 'usar', 'días', 'sintomas', 'coronavirus', 'tiene', 'esta', 'covid,', 'caso', 'lucha', 'prueba', 'ahora', 'puede', 'clave', 'estos', 'todo', \n",
    "                          'desde', 'llamada', 'están', 'gente', 'niños','positivo', 'hasta', 'entre', 'hacer', 'hace', 'presentan', 'test', 'tener', 'pandemia', 'muchos', 'conoce', 'menos', 'años', 'noviembre', 'también', 'cómo', 'tuve', 'medidas', 'cada', '\\nhttps://t',\n",
    "                          'corona','capital','mejor','antes','bien','@minsa_peru','pandemia','donde','nada','esto','mucho','verdad','pues','siempre','millones','nunca','igual','mismo','país','algo','mismo','estaba','estés','atención''#covid19,','tres','meses','presentas',\n",
    "                          'algunos','principales','dosis','atención','pruebas','#covid19,','fiebre,','covid?','veces','problemas','casa','negativo','presentar','tenido','covid.','cura','tratamiento','agua','decir','cáncer','corona','porque','cuando',\n",
    "                          'síntoma','#COVID19','COVID-19','Conoce','ningún','fueron','población','Síntomas','Covid-19']\n",
    "esp_key_exclutions = ['covid', 'covid-19', 'vacuna', 'vacunas', 'covid-19,','variante','síntomas.',' evitar','mismos','contagio','semana','tomar','@claudiashein','ivermectina.','medicamentos','cuenta','médicos','covid-19',\"#felizcumpleañospdtemaduro\"]\n",
    "total_exclutions = esp_regular_exclutions + esp_key_exclutions"
   ]
  },
  {
   "cell_type": "markdown",
   "metadata": {},
   "source": [
    "Pregunta #1: Analisis de sentimientos sobre el tema vacunas"
   ]
  },
  {
   "cell_type": "code",
   "execution_count": null,
   "metadata": {},
   "outputs": [],
   "source": [
    "df_sentimientos = spark.read.option('header','true').csv('./data/sentimientos_vacuna_2.csv',inferSchema=True)\n",
    "count_sentimientos = df_sentimientos.select(\"sentimiento\").groupBy(\"sentimiento\").count().show()"
   ]
  },
  {
   "cell_type": "markdown",
   "metadata": {},
   "source": [
    "Pregunta #2: Sintomas mas consultados"
   ]
  },
  {
   "cell_type": "code",
   "execution_count": null,
   "metadata": {},
   "outputs": [],
   "source": [
    "df_covid_symptoms = spark.read.option('header','true').csv('./data/symptom_tweets.csv',inferSchema=True)\n",
    "df_covid_symptoms.select('tweet').where(df_covid_symptoms.entidad == 'COVID-19').show()"
   ]
  },
  {
   "cell_type": "code",
   "execution_count": null,
   "metadata": {},
   "outputs": [],
   "source": [
    "words_symptoms_count = df_covid_symptoms.withColumn('word', f.explode(f.split(f.col('tweet'), ' ')))\\\n",
    "    .groupBy('word')\\\n",
    "    .count()\\\n",
    "    .sort('count', ascending=False)\n",
    "lower_words_count = words_symptoms_count.select([f.lower(words_symptoms_count.word).alias('word'),'count'])\n",
    "larger_words_df =  words_symptoms_count.select(['word','count']).where(f.length(words_symptoms_count.word) > 5)\n",
    "larger_words_df.filter(larger_words_df.word.isin(total_exclutions) == False).show(20, False)"
   ]
  },
  {
   "cell_type": "markdown",
   "metadata": {},
   "source": [
    "Pregunta #3: Temas más consultados sobre el covid en twitter"
   ]
  },
  {
   "cell_type": "code",
   "execution_count": null,
   "metadata": {},
   "outputs": [],
   "source": [
    "df_covid_tweets = spark.read.option('header','true').csv('./data/covid_tweets.csv',inferSchema=True)\n",
    "df_covid_tweets = df_covid_tweets.select(f.lower(df_covid_tweets.tweet))\n",
    "df_covid_tweets.show()"
   ]
  },
  {
   "cell_type": "code",
   "execution_count": null,
   "metadata": {},
   "outputs": [],
   "source": [
    "\n",
    "words_count = df_covid_tweets.withColumn('word', f.explode(f.split(f.col('tweet'), ' ')))\\\n",
    "    .groupBy('word')\\\n",
    "    .count()\\\n",
    "    .sort('count', ascending=False)\n",
    "words_count = words_count.select([f.lower(words_count.word).alias('word'),'count'])\n",
    "words_count.show()"
   ]
  },
  {
   "cell_type": "code",
   "execution_count": null,
   "metadata": {},
   "outputs": [],
   "source": [
    "larger_words_df =  words_count.select(['word','count']).where(f.length(words_count.word) > 5)\n",
    "larger_words_df.filter(larger_words_df.word.isin(total_exclutions) == False).show(20, False)"
   ]
  },
  {
   "cell_type": "markdown",
   "metadata": {},
   "source": [
    "Pregunta #4: Analisis de sentimiento sobre Azitromicina, dioxido de cloro y invermectina"
   ]
  },
  {
   "cell_type": "code",
   "execution_count": null,
   "metadata": {},
   "outputs": [],
   "source": [
    "df_alternative_medicines = spark.read.option('header','true').csv('./data/4medicina_alternativa.csv',inferSchema=True)\n",
    "df_alternative_medicines.show()"
   ]
  },
  {
   "cell_type": "code",
   "execution_count": 134,
   "metadata": {},
   "outputs": [
    {
     "name": "stdout",
     "output_type": "stream",
     "text": [
      "+------------+-----+\n",
      "|medicina_alt|count|\n",
      "+------------+-----+\n",
      "|dioxido     |8    |\n",
      "|azitromicina|206  |\n",
      "|cloroquina  |678  |\n",
      "|ivermectina |3778 |\n",
      "+------------+-----+\n",
      "\n"
     ]
    }
   ],
   "source": [
    "words_count = df_alternative_medicines.withColumn('medicina_alt', f.explode(f.split(f.col('tweet'), ' ')))\\\n",
    "    .groupBy(f.lower('medicina_alt').alias('medicina_alt'))\\\n",
    "    .count()\n",
    "alt_filter_df = words_count.filter(words_count.medicina_alt.isin(['azitromicina','dioxido','ivermectina','cloroquina']))\n",
    "alt_filter_df.show(20, False)"
   ]
  }
 ],
 "metadata": {
  "kernelspec": {
   "display_name": "Python 3.11.0 64-bit",
   "language": "python",
   "name": "python3"
  },
  "language_info": {
   "codemirror_mode": {
    "name": "ipython",
    "version": 3
   },
   "file_extension": ".py",
   "mimetype": "text/x-python",
   "name": "python",
   "nbconvert_exporter": "python",
   "pygments_lexer": "ipython3",
   "version": "3.11.0"
  },
  "orig_nbformat": 4,
  "vscode": {
   "interpreter": {
    "hash": "c261aea317cc0286b3b3261fbba9abdec21eaa57589985bb7a274bf54d6cc0a7"
   }
  }
 },
 "nbformat": 4,
 "nbformat_minor": 2
}
