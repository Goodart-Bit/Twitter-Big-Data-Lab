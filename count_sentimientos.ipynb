{
 "cells": [
  {
   "cell_type": "code",
   "execution_count": 3,
   "metadata": {},
   "outputs": [],
   "source": [
    "import pandas\n",
    "from pyspark.sql import SparkSession"
   ]
  },
  {
   "cell_type": "code",
   "execution_count": 4,
   "metadata": {},
   "outputs": [
    {
     "data": {
      "text/html": [
       "\n",
       "            <div>\n",
       "                <p><b>SparkSession - in-memory</b></p>\n",
       "                \n",
       "        <div>\n",
       "            <p><b>SparkContext</b></p>\n",
       "\n",
       "            <p><a href=\"http://Aspire-5:4041\">Spark UI</a></p>\n",
       "\n",
       "            <dl>\n",
       "              <dt>Version</dt>\n",
       "                <dd><code>v3.3.1</code></dd>\n",
       "              <dt>Master</dt>\n",
       "                <dd><code>local[*]</code></dd>\n",
       "              <dt>AppName</dt>\n",
       "                <dd><code>Laboratorio COVID-19 Twitter</code></dd>\n",
       "            </dl>\n",
       "        </div>\n",
       "        \n",
       "            </div>\n",
       "        "
      ],
      "text/plain": [
       "<pyspark.sql.session.SparkSession at 0x1be25628fd0>"
      ]
     },
     "execution_count": 4,
     "metadata": {},
     "output_type": "execute_result"
    }
   ],
   "source": [
    "spark = SparkSession.builder.appName('Laboratorio COVID-19 Twitter').getOrCreate()\n",
    "spark"
   ]
  },
  {
   "cell_type": "code",
   "execution_count": 13,
   "metadata": {},
   "outputs": [
    {
     "name": "stdout",
     "output_type": "stream",
     "text": [
      "+-----------+-----+\n",
      "|sentimiento|count|\n",
      "+-----------+-----+\n",
      "|    neutral|   76|\n",
      "|   negativo|  135|\n",
      "|   positivo|   89|\n",
      "+-----------+-----+\n",
      "\n"
     ]
    }
   ],
   "source": [
    "df_sentimientos = spark.read.option('header','true').csv('sentimientos_vacuna_2.csv',inferSchema=True)\n",
    "count_sentimientos = df_sentimientos.select(\"sentimiento\").groupBy(\"sentimiento\").count().show()"
   ]
  },
  {
   "cell_type": "code",
   "execution_count": 19,
   "metadata": {},
   "outputs": [
    {
     "name": "stdout",
     "output_type": "stream",
     "text": [
      "+-------------+-----+\n",
      "|         word|count|\n",
      "+-------------+-----+\n",
      "|        gripe|   82|\n",
      "|        dolor|   73|\n",
      "|       fiebre|   67|\n",
      "|    infección|   57|\n",
      "|    influenza|   55|\n",
      "|respiratorios|   55|\n",
      "|        leves|   48|\n",
      "|       evitar|   39|\n",
      "|       riesgo|   37|\n",
      "|    depresión|   35|\n",
      "|    covid-19.|   34|\n",
      "|    población|   33|\n",
      "|        otros|   32|\n",
      "|         casi|   32|\n",
      "|     garganta|   31|\n",
      "|       fueron|   31|\n",
      "|       pueden|   31|\n",
      "|        luego|   30|\n",
      "|       tiempo|   30|\n",
      "|         creo|   30|\n",
      "+-------------+-----+\n",
      "only showing top 20 rows\n",
      "\n"
     ]
    }
   ],
   "source": [
    "df_words = spark.read.option('header','true').csv('palabras_mas_relevantes.csv',inferSchema=True)\n",
    "df_words.select(['word','count']).show()"
   ]
  },
  {
   "cell_type": "code",
   "execution_count": 6,
   "metadata": {},
   "outputs": [
    {
     "name": "stdout",
     "output_type": "stream",
     "text": [
      "+-----------+-----+\n",
      "|       word|count|\n",
      "+-----------+-----+\n",
      "|ivermectina|  386|\n",
      "|medicamento|  259|\n",
      "|  cualquier|   78|\n",
      "|    remedio|   76|\n",
      "|    efectos|   70|\n",
      "|     médico|   65|\n",
      "|   gobierno|   64|\n",
      "|     vacina|   64|\n",
      "|      otros|   58|\n",
      "|      puedo|   58|\n",
      "|       vida|   56|\n",
      "|mascarillas|   56|\n",
      "|      nadie|   56|\n",
      "|      había|   55|\n",
      "|      cloro|   54|\n",
      "|      tanto|   53|\n",
      "|    gracias|   52|\n",
      "|      todas|   51|\n",
      "|     evitar|   51|\n",
      "|      luego|   50|\n",
      "+-----------+-----+\n",
      "only showing top 20 rows\n",
      "\n"
     ]
    }
   ],
   "source": [
    "df_words = spark.read.option('header','true').csv('medicamentos_alternivos.csv',inferSchema=True)\n",
    "df_words.select(['word','count']).show()"
   ]
  }
 ],
 "metadata": {
  "kernelspec": {
   "display_name": "Python 3.11.0 64-bit",
   "language": "python",
   "name": "python3"
  },
  "language_info": {
   "codemirror_mode": {
    "name": "ipython",
    "version": 3
   },
   "file_extension": ".py",
   "mimetype": "text/x-python",
   "name": "python",
   "nbconvert_exporter": "python",
   "pygments_lexer": "ipython3",
   "version": "3.11.0"
  },
  "orig_nbformat": 4,
  "vscode": {
   "interpreter": {
    "hash": "c261aea317cc0286b3b3261fbba9abdec21eaa57589985bb7a274bf54d6cc0a7"
   }
  }
 },
 "nbformat": 4,
 "nbformat_minor": 2
}
